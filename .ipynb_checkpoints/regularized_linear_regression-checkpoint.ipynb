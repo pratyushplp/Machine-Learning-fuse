{
 "cells": [
  {
   "cell_type": "code",
   "execution_count": 1,
   "metadata": {},
   "outputs": [
    {
     "ename": "IndentationError",
     "evalue": "unexpected indent (<ipython-input-1-cf397c387d28>, line 56)",
     "output_type": "error",
     "traceback": [
      "\u001b[0;36m  File \u001b[0;32m\"<ipython-input-1-cf397c387d28>\"\u001b[0;36m, line \u001b[0;32m56\u001b[0m\n\u001b[0;31m    gradient_weights=(1/ len(Y)) * (np.matmul(error(X,Y,W,b),X_transpose)+(lda/len(Y))*np.sum(W**2))\u001b[0m\n\u001b[0m    ^\u001b[0m\n\u001b[0;31mIndentationError\u001b[0m\u001b[0;31m:\u001b[0m unexpected indent\n"
     ]
    }
   ],
   "source": [
    "import numpy as np\n",
    "import matplotlib.pyplot as plt\n",
    "from sklearn.metrics import accuracy_score\n",
    "\n",
    "from sklearn.datasets import load_boston\n",
    "from sklearn.model_selection import train_test_split\n",
    "\n",
    "#importing and splitting training test sets\n",
    "data = load_boston()\n",
    "Y=data.target\n",
    "#X=data.data\n",
    "X=np.array(data.data)\n",
    "X=X[:,:3]\n",
    "\n",
    "X_train,X_test,y_train,y_test=train_test_split(X,Y,test_size=0.2)\n",
    "mean = X_train.mean(axis=0)\n",
    "sigma = X_train.std(axis=0)\n",
    "X_train = (X_train - mean) / sigma\n",
    "N=len(X_train)\n",
    "weights=np.zeros((3,1))\n",
    "b=1\n",
    "\n",
    "value_X=np.transpose(X_train)\n",
    "value_Y=y_train\n",
    "value_weights=np.transpose(weights)\n",
    "\n",
    "test_X=X_test\n",
    "mean1=test_X.mean(axis=0)\n",
    "sigma1=test_X.std(axis=0)\n",
    "final_test_X=(np.transpose((test_X - mean1) / sigma1)).T\n",
    "test_Y=y_test\n",
    "print(test_Y.shape)\n",
    "\n",
    "learning_rate = 0.1\n",
    "epochs = 100\n",
    "#lyambda value\n",
    "lda= 0.3\n",
    "\n",
    "#print(len(X.T))\n",
    "def error(X,Y,W,b):\n",
    "    error_matrix=((((np.matmul(W,X))+b)-Y))\n",
    "    #print(np.shape(error_matrix))\n",
    "    new_value=np.square(error_matrix)\n",
    "    total_loss=(1/2) * np.sum(new_value)\n",
    "    final_total_loss=total_loss/len(Y)\n",
    "    print(\"total loss\",final_total_loss)\n",
    "    \n",
    "    return error_matrix\n",
    "#     print(error_matrix.shape)\n",
    "    #left to find total cost(ie total error)\n",
    "    \n",
    "    \n",
    "def gradient_step(X,Y,W,b,learning_rate,i):\n",
    "    \n",
    "    X_transpose=np.transpose(X)    \n",
    "    gradient_weights=(1/ len(Y)) * (np.matmul(error(X,Y,W,b),X_transpose)+(lda/len(Y))*np.sum(W**2))\n",
    "    #pint(\"Gradient: \", gradient_weights.shape)\n",
    "    gradient_bias=(1/len(Y)) * np.sum(error(X,Y,W,b))\n",
    "    new_w = W - learning_rate*gradient_weights\n",
    "    new_b = b - learning_rate*gradient_bias\n",
    "    return [new_w,new_b]        \n",
    "       \n",
    "def gradient_descent_runner(X,Y,W,b,learning_rate,epochs):\n",
    "    final_w=W\n",
    "    final_b=b\n",
    "    for i in range(epochs):\n",
    "        print(\"iteration \",i)\n",
    "        [final_w,final_b] = gradient_step(X,Y,final_w,final_b,learning_rate,i)\n",
    "    print(\"optimal values of weight is\",final_w)\n",
    "    print(\"optimal values of bias is\",final_b)\n",
    "    return final_w,final_b\n",
    "\n",
    "def test_error(X,Y,W,b):\n",
    "        error_matrix=((((np.matmul(W,X.T))+b)-Y))\n",
    "        new_value=np.square(error_matrix)\n",
    "        total_loss=(1/2) * np.sum(new_value)\n",
    "        final_total_loss=total_loss/len(Y)\n",
    "        print(\" total loss\",final_total_loss)\n",
    "        \n",
    "        \n",
    "\n",
    "    \n",
    "# for training data    \n",
    "optimal_w,optimal_b=gradient_descent_runner(value_X,value_Y,value_weights,b,learning_rate,epochs)\n",
    "#for test case\n",
    "test_error(final_test_X,test_Y,optimal_w,optimal_b)\n",
    "\n",
    "\n",
    "\n",
    "#gradient_descent_runner(final_test_X,value_Y,value_weights,b,learning_rate,epochs)\n",
    "# def test_case:\n",
    "    \n",
    "#     optimal_weight=[[-0.91021802  1.1260376  -0.18719025  0.59404272 -2.09999691  2.80006782\n",
    "#        0.05557707 -3.25971239  2.58286091 -2.12193079 -1.99438135  0.91845471\n",
    "#       -3.30065244]]\n",
    "#     optimal_bias=22.449257425742616\n",
    "#     plot.plot()\n",
    "    \n",
    "# weight=[[-2.07162692,1.37691449,-2.9149935 ]]\n",
    "# final_weight=np.transpose(weight)\n",
    "# print(final_weight.shape)\n",
    "# final_bias=22.577970297029694  \n",
    "# prediction=np.matmul(weight,X_test.T)+final_bias\n",
    "# final_X_test=np.transpose(X_test)\n",
    "# error(final_X_test,y_test,weight,final_bias)\n",
    "\n",
    " \n",
    "\n",
    "\n",
    "    \n",
    "    \n",
    "\n",
    "                         \n",
    "\n",
    "    \n",
    "\n"
   ]
  },
  {
   "cell_type": "code",
   "execution_count": null,
   "metadata": {},
   "outputs": [],
   "source": []
  },
  {
   "cell_type": "code",
   "execution_count": 155,
   "metadata": {},
   "outputs": [],
   "source": [
    "d = load_boston()"
   ]
  },
  {
   "cell_type": "code",
   "execution_count": 156,
   "metadata": {},
   "outputs": [
    {
     "data": {
      "text/plain": [
       "dict_keys(['data', 'target', 'feature_names', 'DESCR'])"
      ]
     },
     "execution_count": 156,
     "metadata": {},
     "output_type": "execute_result"
    }
   ],
   "source": [
    "d.keys()\n"
   ]
  },
  {
   "cell_type": "code",
   "execution_count": 157,
   "metadata": {},
   "outputs": [
    {
     "data": {
      "text/plain": [
       "array(['CRIM', 'ZN', 'INDUS', 'CHAS', 'NOX', 'RM', 'AGE', 'DIS', 'RAD',\n",
       "       'TAX', 'PTRATIO', 'B', 'LSTAT'], dtype='<U7')"
      ]
     },
     "execution_count": 157,
     "metadata": {},
     "output_type": "execute_result"
    }
   ],
   "source": [
    "d.feature_names"
   ]
  },
  {
   "cell_type": "code",
   "execution_count": null,
   "metadata": {},
   "outputs": [],
   "source": []
  }
 ],
 "metadata": {
  "kernelspec": {
   "display_name": "Python 3",
   "language": "python",
   "name": "python3"
  },
  "language_info": {
   "codemirror_mode": {
    "name": "ipython",
    "version": 3
   },
   "file_extension": ".py",
   "mimetype": "text/x-python",
   "name": "python",
   "nbconvert_exporter": "python",
   "pygments_lexer": "ipython3",
   "version": "3.6.5"
  }
 },
 "nbformat": 4,
 "nbformat_minor": 2
}
